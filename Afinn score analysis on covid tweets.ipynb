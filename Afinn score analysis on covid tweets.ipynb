{
 "cells": [
  {
   "cell_type": "markdown",
   "metadata": {},
   "source": [
    "Install afinn and set the language as English"
   ]
  },
  {
   "cell_type": "code",
   "execution_count": 10,
   "metadata": {},
   "outputs": [
    {
     "name": "stdout",
     "output_type": "stream",
     "text": [
      "Requirement already satisfied: afinn in /Users/shirleyma/opt/anaconda3/lib/python3.7/site-packages (0.1)\r\n"
     ]
    }
   ],
   "source": [
    "!pip install afinn"
   ]
  },
  {
   "cell_type": "code",
   "execution_count": 2,
   "metadata": {},
   "outputs": [],
   "source": [
    "from afinn import Afinn"
   ]
  },
  {
   "cell_type": "code",
   "execution_count": 3,
   "metadata": {},
   "outputs": [],
   "source": [
    "afinn = Afinn(language = 'en')"
   ]
  },
  {
   "cell_type": "code",
   "execution_count": 4,
   "metadata": {},
   "outputs": [],
   "source": [
    "#read covid tweets\n",
    "import pandas as pd\n",
    "covid = pd.read_csv('coronavirus.csv')"
   ]
  },
  {
   "cell_type": "code",
   "execution_count": 5,
   "metadata": {},
   "outputs": [
    {
     "data": {
      "text/html": [
       "<div>\n",
       "<style scoped>\n",
       "    .dataframe tbody tr th:only-of-type {\n",
       "        vertical-align: middle;\n",
       "    }\n",
       "\n",
       "    .dataframe tbody tr th {\n",
       "        vertical-align: top;\n",
       "    }\n",
       "\n",
       "    .dataframe thead th {\n",
       "        text-align: right;\n",
       "    }\n",
       "</style>\n",
       "<table border=\"1\" class=\"dataframe\">\n",
       "  <thead>\n",
       "    <tr style=\"text-align: right;\">\n",
       "      <th></th>\n",
       "      <th>text</th>\n",
       "      <th>favorited</th>\n",
       "      <th>favoriteCount</th>\n",
       "      <th>replyToSN</th>\n",
       "      <th>created</th>\n",
       "      <th>truncated</th>\n",
       "      <th>replyToSID</th>\n",
       "      <th>id</th>\n",
       "      <th>replyToUID</th>\n",
       "      <th>statusSource</th>\n",
       "      <th>screenName</th>\n",
       "      <th>retweetCount</th>\n",
       "      <th>isRetweet</th>\n",
       "      <th>retweeted</th>\n",
       "      <th>longitude</th>\n",
       "      <th>latitude</th>\n",
       "    </tr>\n",
       "  </thead>\n",
       "  <tbody>\n",
       "    <tr>\n",
       "      <td>0</td>\n",
       "      <td>RT @uiolibre: Flisol 2020 #QuedateEnCasa #Quéd...</td>\n",
       "      <td>False</td>\n",
       "      <td>0</td>\n",
       "      <td>NaN</td>\n",
       "      <td>2020-05-17 16:28:25</td>\n",
       "      <td>False</td>\n",
       "      <td>NaN</td>\n",
       "      <td>1262057394458120194</td>\n",
       "      <td>NaN</td>\n",
       "      <td>&lt;a href=\"https://mobile.twitter.com\" rel=\"nofo...</td>\n",
       "      <td>anitasayago</td>\n",
       "      <td>1</td>\n",
       "      <td>True</td>\n",
       "      <td>False</td>\n",
       "      <td>NaN</td>\n",
       "      <td>NaN</td>\n",
       "    </tr>\n",
       "    <tr>\n",
       "      <td>1</td>\n",
       "      <td>RT @lopezgovlaw: During the #coronavirus crisi...</td>\n",
       "      <td>False</td>\n",
       "      <td>0</td>\n",
       "      <td>NaN</td>\n",
       "      <td>2020-05-17 16:28:25</td>\n",
       "      <td>False</td>\n",
       "      <td>NaN</td>\n",
       "      <td>1262057393493553155</td>\n",
       "      <td>NaN</td>\n",
       "      <td>&lt;a href=\"https://twitter.com/VotarEsUnDeber\" r...</td>\n",
       "      <td>VotarEsUnDeber</td>\n",
       "      <td>2</td>\n",
       "      <td>True</td>\n",
       "      <td>False</td>\n",
       "      <td>NaN</td>\n",
       "      <td>NaN</td>\n",
       "    </tr>\n",
       "    <tr>\n",
       "      <td>2</td>\n",
       "      <td>RT @CashSends: Due to #COVID19 aka #Coronaviru...</td>\n",
       "      <td>False</td>\n",
       "      <td>0</td>\n",
       "      <td>NaN</td>\n",
       "      <td>2020-05-17 16:28:24</td>\n",
       "      <td>False</td>\n",
       "      <td>NaN</td>\n",
       "      <td>1262057391866200065</td>\n",
       "      <td>NaN</td>\n",
       "      <td>&lt;a href=\"http://twitter.com/download/android\" ...</td>\n",
       "      <td>GoddessAnnaCat</td>\n",
       "      <td>221</td>\n",
       "      <td>True</td>\n",
       "      <td>False</td>\n",
       "      <td>NaN</td>\n",
       "      <td>NaN</td>\n",
       "    </tr>\n",
       "    <tr>\n",
       "      <td>3</td>\n",
       "      <td>RT @zhengjeanclaude: #covid19 #coronavirus #va...</td>\n",
       "      <td>False</td>\n",
       "      <td>0</td>\n",
       "      <td>NaN</td>\n",
       "      <td>2020-05-17 16:28:23</td>\n",
       "      <td>False</td>\n",
       "      <td>NaN</td>\n",
       "      <td>1262057387642372098</td>\n",
       "      <td>NaN</td>\n",
       "      <td>&lt;a href=\"http://twitter.com/download/iphone\" r...</td>\n",
       "      <td>nativespecies</td>\n",
       "      <td>2</td>\n",
       "      <td>True</td>\n",
       "      <td>False</td>\n",
       "      <td>NaN</td>\n",
       "      <td>NaN</td>\n",
       "    </tr>\n",
       "    <tr>\n",
       "      <td>4</td>\n",
       "      <td>RT @edwardpoole1975: British Medical Journal's...</td>\n",
       "      <td>False</td>\n",
       "      <td>0</td>\n",
       "      <td>NaN</td>\n",
       "      <td>2020-05-17 16:28:23</td>\n",
       "      <td>False</td>\n",
       "      <td>NaN</td>\n",
       "      <td>1262057386258378753</td>\n",
       "      <td>NaN</td>\n",
       "      <td>&lt;a href=\"http://twitter.com/download/iphone\" r...</td>\n",
       "      <td>Cheyenne196060</td>\n",
       "      <td>18</td>\n",
       "      <td>True</td>\n",
       "      <td>False</td>\n",
       "      <td>NaN</td>\n",
       "      <td>NaN</td>\n",
       "    </tr>\n",
       "  </tbody>\n",
       "</table>\n",
       "</div>"
      ],
      "text/plain": [
       "                                                text  favorited  \\\n",
       "0  RT @uiolibre: Flisol 2020 #QuedateEnCasa #Quéd...      False   \n",
       "1  RT @lopezgovlaw: During the #coronavirus crisi...      False   \n",
       "2  RT @CashSends: Due to #COVID19 aka #Coronaviru...      False   \n",
       "3  RT @zhengjeanclaude: #covid19 #coronavirus #va...      False   \n",
       "4  RT @edwardpoole1975: British Medical Journal's...      False   \n",
       "\n",
       "   favoriteCount replyToSN              created  truncated  replyToSID  \\\n",
       "0              0       NaN  2020-05-17 16:28:25      False         NaN   \n",
       "1              0       NaN  2020-05-17 16:28:25      False         NaN   \n",
       "2              0       NaN  2020-05-17 16:28:24      False         NaN   \n",
       "3              0       NaN  2020-05-17 16:28:23      False         NaN   \n",
       "4              0       NaN  2020-05-17 16:28:23      False         NaN   \n",
       "\n",
       "                    id  replyToUID  \\\n",
       "0  1262057394458120194         NaN   \n",
       "1  1262057393493553155         NaN   \n",
       "2  1262057391866200065         NaN   \n",
       "3  1262057387642372098         NaN   \n",
       "4  1262057386258378753         NaN   \n",
       "\n",
       "                                        statusSource      screenName  \\\n",
       "0  <a href=\"https://mobile.twitter.com\" rel=\"nofo...     anitasayago   \n",
       "1  <a href=\"https://twitter.com/VotarEsUnDeber\" r...  VotarEsUnDeber   \n",
       "2  <a href=\"http://twitter.com/download/android\" ...  GoddessAnnaCat   \n",
       "3  <a href=\"http://twitter.com/download/iphone\" r...   nativespecies   \n",
       "4  <a href=\"http://twitter.com/download/iphone\" r...  Cheyenne196060   \n",
       "\n",
       "   retweetCount  isRetweet  retweeted  longitude  latitude  \n",
       "0             1       True      False        NaN       NaN  \n",
       "1             2       True      False        NaN       NaN  \n",
       "2           221       True      False        NaN       NaN  \n",
       "3             2       True      False        NaN       NaN  \n",
       "4            18       True      False        NaN       NaN  "
      ]
     },
     "execution_count": 5,
     "metadata": {},
     "output_type": "execute_result"
    }
   ],
   "source": [
    "covid.head(5)"
   ]
  },
  {
   "cell_type": "code",
   "execution_count": 6,
   "metadata": {},
   "outputs": [],
   "source": [
    "#apply afinn scores\n",
    "covid['afinn_score'] = covid['text'].apply(afinn.score)"
   ]
  },
  {
   "cell_type": "code",
   "execution_count": 7,
   "metadata": {},
   "outputs": [
    {
     "data": {
      "text/plain": [
       "count    1000.0000\n",
       "mean       -0.5930\n",
       "std         2.4243\n",
       "min        -9.0000\n",
       "25%        -2.0000\n",
       "50%         0.0000\n",
       "75%         1.0000\n",
       "max         8.0000\n",
       "Name: afinn_score, dtype: float64"
      ]
     },
     "execution_count": 7,
     "metadata": {},
     "output_type": "execute_result"
    }
   ],
   "source": [
    "covid['afinn_score'].describe()"
   ]
  },
  {
   "cell_type": "markdown",
   "metadata": {},
   "source": [
    "Now sorting the tweets by afinn scores to get a sense of what is the extreme scoring comments "
   ]
  },
  {
   "cell_type": "code",
   "execution_count": 11,
   "metadata": {},
   "outputs": [
    {
     "data": {
      "text/html": [
       "<div>\n",
       "<style scoped>\n",
       "    .dataframe tbody tr th:only-of-type {\n",
       "        vertical-align: middle;\n",
       "    }\n",
       "\n",
       "    .dataframe tbody tr th {\n",
       "        vertical-align: top;\n",
       "    }\n",
       "\n",
       "    .dataframe thead th {\n",
       "        text-align: right;\n",
       "    }\n",
       "</style>\n",
       "<table border=\"1\" class=\"dataframe\">\n",
       "  <thead>\n",
       "    <tr style=\"text-align: right;\">\n",
       "      <th></th>\n",
       "      <th>text</th>\n",
       "      <th>afinn_score</th>\n",
       "    </tr>\n",
       "  </thead>\n",
       "  <tbody>\n",
       "    <tr>\n",
       "      <td>71</td>\n",
       "      <td>RT @Varneyco: STU: \"Stop forcing businesses to...</td>\n",
       "      <td>-9.0</td>\n",
       "    </tr>\n",
       "    <tr>\n",
       "      <td>149</td>\n",
       "      <td>#covid19 #coronavirus 😷 The people are dying a...</td>\n",
       "      <td>-8.0</td>\n",
       "    </tr>\n",
       "    <tr>\n",
       "      <td>383</td>\n",
       "      <td>RT @OffGuardian0: Tracking people who attend p...</td>\n",
       "      <td>-8.0</td>\n",
       "    </tr>\n",
       "    <tr>\n",
       "      <td>587</td>\n",
       "      <td>RT @SandraSentinel: No one should be allowed t...</td>\n",
       "      <td>-7.0</td>\n",
       "    </tr>\n",
       "    <tr>\n",
       "      <td>833</td>\n",
       "      <td>https://t.co/okEpFtHzRJ &amp;gt; Did @FLOTUS water...</td>\n",
       "      <td>-7.0</td>\n",
       "    </tr>\n",
       "    <tr>\n",
       "      <td>417</td>\n",
       "      <td>RT @GreatGameIndia: MUST READ\\n\\nIn a shocking...</td>\n",
       "      <td>-7.0</td>\n",
       "    </tr>\n",
       "    <tr>\n",
       "      <td>212</td>\n",
       "      <td>RT @QuickTake: Amal Clooney warns that the #co...</td>\n",
       "      <td>-7.0</td>\n",
       "    </tr>\n",
       "    <tr>\n",
       "      <td>496</td>\n",
       "      <td>RT @Smith_JeffreyT: Two journalists from Kenya...</td>\n",
       "      <td>-6.0</td>\n",
       "    </tr>\n",
       "    <tr>\n",
       "      <td>659</td>\n",
       "      <td>@focused4USA @Arctic__char There are 3 houses ...</td>\n",
       "      <td>-6.0</td>\n",
       "    </tr>\n",
       "    <tr>\n",
       "      <td>805</td>\n",
       "      <td>RT @restartleader: This was my last ultimatum ...</td>\n",
       "      <td>-6.0</td>\n",
       "    </tr>\n",
       "  </tbody>\n",
       "</table>\n",
       "</div>"
      ],
      "text/plain": [
       "                                                  text  afinn_score\n",
       "71   RT @Varneyco: STU: \"Stop forcing businesses to...         -9.0\n",
       "149  #covid19 #coronavirus 😷 The people are dying a...         -8.0\n",
       "383  RT @OffGuardian0: Tracking people who attend p...         -8.0\n",
       "587  RT @SandraSentinel: No one should be allowed t...         -7.0\n",
       "833  https://t.co/okEpFtHzRJ &gt; Did @FLOTUS water...         -7.0\n",
       "417  RT @GreatGameIndia: MUST READ\\n\\nIn a shocking...         -7.0\n",
       "212  RT @QuickTake: Amal Clooney warns that the #co...         -7.0\n",
       "496  RT @Smith_JeffreyT: Two journalists from Kenya...         -6.0\n",
       "659  @focused4USA @Arctic__char There are 3 houses ...         -6.0\n",
       "805  RT @restartleader: This was my last ultimatum ...         -6.0"
      ]
     },
     "execution_count": 11,
     "metadata": {},
     "output_type": "execute_result"
    }
   ],
   "source": [
    "col = ['text','afinn_score']\n",
    "covid.sort_values(by='afinn_score')[col].head(10)"
   ]
  },
  {
   "cell_type": "code",
   "execution_count": 22,
   "metadata": {},
   "outputs": [
    {
     "data": {
      "text/html": [
       "<div>\n",
       "<style scoped>\n",
       "    .dataframe tbody tr th:only-of-type {\n",
       "        vertical-align: middle;\n",
       "    }\n",
       "\n",
       "    .dataframe tbody tr th {\n",
       "        vertical-align: top;\n",
       "    }\n",
       "\n",
       "    .dataframe thead th {\n",
       "        text-align: right;\n",
       "    }\n",
       "</style>\n",
       "<table border=\"1\" class=\"dataframe\">\n",
       "  <thead>\n",
       "    <tr style=\"text-align: right;\">\n",
       "      <th></th>\n",
       "      <th>text</th>\n",
       "      <th>afinn_score</th>\n",
       "    </tr>\n",
       "  </thead>\n",
       "  <tbody>\n",
       "    <tr>\n",
       "      <td>71</td>\n",
       "      <td>RT @Varneyco: STU: \"Stop forcing businesses to go bankrupt, stop telling abused people 'you can'...</td>\n",
       "      <td>-9.0</td>\n",
       "    </tr>\n",
       "    <tr>\n",
       "      <td>149</td>\n",
       "      <td>#covid19 #coronavirus 😷 The people are dying and will continue to die because of a lack of knowl...</td>\n",
       "      <td>-8.0</td>\n",
       "    </tr>\n",
       "    <tr>\n",
       "      <td>383</td>\n",
       "      <td>RT @OffGuardian0: Tracking people who attend protests to their homes, threatening them with arre...</td>\n",
       "      <td>-8.0</td>\n",
       "    </tr>\n",
       "    <tr>\n",
       "      <td>587</td>\n",
       "      <td>RT @SandraSentinel: No one should be allowed to drive again until there are no fatal accidents f...</td>\n",
       "      <td>-7.0</td>\n",
       "    </tr>\n",
       "    <tr>\n",
       "      <td>833</td>\n",
       "      <td>https://t.co/okEpFtHzRJ &amp;gt; Did @FLOTUS water 💦 it with tears of caged babies or tears from fam...</td>\n",
       "      <td>-7.0</td>\n",
       "    </tr>\n",
       "    <tr>\n",
       "      <td>417</td>\n",
       "      <td>RT @GreatGameIndia: MUST READ\\n\\nIn a shocking claim the President of Madagascar has said that t...</td>\n",
       "      <td>-7.0</td>\n",
       "    </tr>\n",
       "    <tr>\n",
       "      <td>212</td>\n",
       "      <td>RT @QuickTake: Amal Clooney warns that the #coronavirus is being used by governments to seize po...</td>\n",
       "      <td>-7.0</td>\n",
       "    </tr>\n",
       "    <tr>\n",
       "      <td>496</td>\n",
       "      <td>RT @Smith_JeffreyT: Two journalists from Kenya have reportedly been arrested in #Tanzania today....</td>\n",
       "      <td>-6.0</td>\n",
       "    </tr>\n",
       "    <tr>\n",
       "      <td>659</td>\n",
       "      <td>@focused4USA @Arctic__char There are 3 houses on fire on a street. The fire dept. arrives and pu...</td>\n",
       "      <td>-6.0</td>\n",
       "    </tr>\n",
       "    <tr>\n",
       "      <td>805</td>\n",
       "      <td>RT @restartleader: This was my last ultimatum to China.\\nBy the breakout of #Coronavirus, they l...</td>\n",
       "      <td>-6.0</td>\n",
       "    </tr>\n",
       "  </tbody>\n",
       "</table>\n",
       "</div>"
      ],
      "text/plain": [
       "                                                                                                    text  \\\n",
       "71   RT @Varneyco: STU: \"Stop forcing businesses to go bankrupt, stop telling abused people 'you can'...   \n",
       "149  #covid19 #coronavirus 😷 The people are dying and will continue to die because of a lack of knowl...   \n",
       "383  RT @OffGuardian0: Tracking people who attend protests to their homes, threatening them with arre...   \n",
       "587  RT @SandraSentinel: No one should be allowed to drive again until there are no fatal accidents f...   \n",
       "833  https://t.co/okEpFtHzRJ &gt; Did @FLOTUS water 💦 it with tears of caged babies or tears from fam...   \n",
       "417  RT @GreatGameIndia: MUST READ\\n\\nIn a shocking claim the President of Madagascar has said that t...   \n",
       "212  RT @QuickTake: Amal Clooney warns that the #coronavirus is being used by governments to seize po...   \n",
       "496  RT @Smith_JeffreyT: Two journalists from Kenya have reportedly been arrested in #Tanzania today....   \n",
       "659  @focused4USA @Arctic__char There are 3 houses on fire on a street. The fire dept. arrives and pu...   \n",
       "805  RT @restartleader: This was my last ultimatum to China.\\nBy the breakout of #Coronavirus, they l...   \n",
       "\n",
       "     afinn_score  \n",
       "71          -9.0  \n",
       "149         -8.0  \n",
       "383         -8.0  \n",
       "587         -7.0  \n",
       "833         -7.0  \n",
       "417         -7.0  \n",
       "212         -7.0  \n",
       "496         -6.0  \n",
       "659         -6.0  \n",
       "805         -6.0  "
      ]
     },
     "execution_count": 22,
     "metadata": {},
     "output_type": "execute_result"
    }
   ],
   "source": [
    "pd.set_option('max_colwidth',100)\n",
    "covid.sort_values(by='afinn_score')[col].head(10)"
   ]
  },
  {
   "cell_type": "code",
   "execution_count": 24,
   "metadata": {},
   "outputs": [
    {
     "data": {
      "text/plain": [
       "'RT @Varneyco: STU: \"Stop forcing businesses to go bankrupt, stop telling abused people \\'you can\\'t get out of that house,\\' plus, stop govern…'"
      ]
     },
     "execution_count": 24,
     "metadata": {},
     "output_type": "execute_result"
    }
   ],
   "source": [
    "sample = covid.iloc[71]['text']\n",
    "sample"
   ]
  },
  {
   "cell_type": "markdown",
   "metadata": {},
   "source": [
    "Now lets see some positive tweets "
   ]
  },
  {
   "cell_type": "code",
   "execution_count": 17,
   "metadata": {},
   "outputs": [
    {
     "data": {
      "text/html": [
       "<div>\n",
       "<style scoped>\n",
       "    .dataframe tbody tr th:only-of-type {\n",
       "        vertical-align: middle;\n",
       "    }\n",
       "\n",
       "    .dataframe tbody tr th {\n",
       "        vertical-align: top;\n",
       "    }\n",
       "\n",
       "    .dataframe thead th {\n",
       "        text-align: right;\n",
       "    }\n",
       "</style>\n",
       "<table border=\"1\" class=\"dataframe\">\n",
       "  <thead>\n",
       "    <tr style=\"text-align: right;\">\n",
       "      <th></th>\n",
       "      <th>text</th>\n",
       "      <th>afinn_score</th>\n",
       "    </tr>\n",
       "  </thead>\n",
       "  <tbody>\n",
       "    <tr>\n",
       "      <td>534</td>\n",
       "      <td>RT @EuMordue: The EU is supporting @NCAJ_KE to innovate in the safe delivery of justice in Kenya...</td>\n",
       "      <td>5.0</td>\n",
       "    </tr>\n",
       "    <tr>\n",
       "      <td>644</td>\n",
       "      <td>RT @lavarjwardenn: I GOT SOME GOOD NEWS CORONAVIRUS,WE HAVE JESUS\\nPLEASE SHARE FOR A WORD OF EN...</td>\n",
       "      <td>6.0</td>\n",
       "    </tr>\n",
       "    <tr>\n",
       "      <td>8</td>\n",
       "      <td>Dear Donald #Trump, great, show us your plan! What is your strategy? What do you mean with medic...</td>\n",
       "      <td>6.0</td>\n",
       "    </tr>\n",
       "    <tr>\n",
       "      <td>229</td>\n",
       "      <td>RT @MOFA_Taiwan: #Taiwan has #Coronavirus in check. This healthy situation is winning the countr...</td>\n",
       "      <td>6.0</td>\n",
       "    </tr>\n",
       "    <tr>\n",
       "      <td>282</td>\n",
       "      <td>RT @rob0349: After putting the responsibility on Govs to direct the #Coronavirus response that w...</td>\n",
       "      <td>7.0</td>\n",
       "    </tr>\n",
       "    <tr>\n",
       "      <td>414</td>\n",
       "      <td>RT @rob0349: After putting the responsibility on Govs to direct the #Coronavirus response that w...</td>\n",
       "      <td>7.0</td>\n",
       "    </tr>\n",
       "    <tr>\n",
       "      <td>46</td>\n",
       "      <td>RT @IAmFrankButcher: @BBCNews Good luck to a high uptake of this. Failed to vaccinate the common...</td>\n",
       "      <td>7.0</td>\n",
       "    </tr>\n",
       "    <tr>\n",
       "      <td>845</td>\n",
       "      <td>Interesting. \\n\"There is a strong association between the strength of marriage in counties acros...</td>\n",
       "      <td>7.0</td>\n",
       "    </tr>\n",
       "    <tr>\n",
       "      <td>801</td>\n",
       "      <td>Miracle can make fabulous sushi for your party! Let us worry about making belly happy! 😊👍\\n\\n#co...</td>\n",
       "      <td>8.0</td>\n",
       "    </tr>\n",
       "    <tr>\n",
       "      <td>772</td>\n",
       "      <td>RT @BinanceBCF: 'Happier Sunday' x @BinanceBCF Part 3\\n\\n☀️All-day we will only highlight the go...</td>\n",
       "      <td>8.0</td>\n",
       "    </tr>\n",
       "  </tbody>\n",
       "</table>\n",
       "</div>"
      ],
      "text/plain": [
       "                                                                                                    text  \\\n",
       "534  RT @EuMordue: The EU is supporting @NCAJ_KE to innovate in the safe delivery of justice in Kenya...   \n",
       "644  RT @lavarjwardenn: I GOT SOME GOOD NEWS CORONAVIRUS,WE HAVE JESUS\\nPLEASE SHARE FOR A WORD OF EN...   \n",
       "8    Dear Donald #Trump, great, show us your plan! What is your strategy? What do you mean with medic...   \n",
       "229  RT @MOFA_Taiwan: #Taiwan has #Coronavirus in check. This healthy situation is winning the countr...   \n",
       "282  RT @rob0349: After putting the responsibility on Govs to direct the #Coronavirus response that w...   \n",
       "414  RT @rob0349: After putting the responsibility on Govs to direct the #Coronavirus response that w...   \n",
       "46   RT @IAmFrankButcher: @BBCNews Good luck to a high uptake of this. Failed to vaccinate the common...   \n",
       "845  Interesting. \\n\"There is a strong association between the strength of marriage in counties acros...   \n",
       "801  Miracle can make fabulous sushi for your party! Let us worry about making belly happy! 😊👍\\n\\n#co...   \n",
       "772  RT @BinanceBCF: 'Happier Sunday' x @BinanceBCF Part 3\\n\\n☀️All-day we will only highlight the go...   \n",
       "\n",
       "     afinn_score  \n",
       "534          5.0  \n",
       "644          6.0  \n",
       "8            6.0  \n",
       "229          6.0  \n",
       "282          7.0  \n",
       "414          7.0  \n",
       "46           7.0  \n",
       "845          7.0  \n",
       "801          8.0  \n",
       "772          8.0  "
      ]
     },
     "execution_count": 17,
     "metadata": {},
     "output_type": "execute_result"
    }
   ],
   "source": [
    "covid.sort_values(by='afinn_score')[col].tail(10)"
   ]
  },
  {
   "cell_type": "code",
   "execution_count": 19,
   "metadata": {},
   "outputs": [
    {
     "name": "stdout",
     "output_type": "stream",
     "text": [
      "RT @EuMordue: The EU is supporting @NCAJ_KE to innovate in the safe delivery of justice in Kenya during the #CoronaVirus pandemic, protecti…\n"
     ]
    }
   ],
   "source": [
    "sample2 = covid.iloc[534]['text']\n",
    "print(sample2)"
   ]
  },
  {
   "cell_type": "markdown",
   "metadata": {},
   "source": [
    "One of the drawbacks to using the raw Afinn score is the that longer texts may yield higher values simply because they contain more words. To adjust for that, we can divide the score by the number of words in each tweet."
   ]
  },
  {
   "cell_type": "code",
   "execution_count": 25,
   "metadata": {},
   "outputs": [],
   "source": [
    "def word_count(text_string):\n",
    "    return len(text_string.split())"
   ]
  },
  {
   "cell_type": "code",
   "execution_count": 26,
   "metadata": {},
   "outputs": [],
   "source": [
    "covid['word_count'] = covid['text'].apply(word_count)"
   ]
  },
  {
   "cell_type": "code",
   "execution_count": 27,
   "metadata": {},
   "outputs": [
    {
     "data": {
      "text/plain": [
       "count    1000.000000\n",
       "mean       19.712000\n",
       "std         4.278243\n",
       "min         6.000000\n",
       "25%        18.000000\n",
       "50%        21.000000\n",
       "75%        23.000000\n",
       "max        27.000000\n",
       "Name: word_count, dtype: float64"
      ]
     },
     "execution_count": 27,
     "metadata": {},
     "output_type": "execute_result"
    }
   ],
   "source": [
    "covid['word_count'].describe()"
   ]
  },
  {
   "cell_type": "markdown",
   "metadata": {},
   "source": [
    "We can divide the original score by the word count to produce afinn_adjusted. This isn’t exactly a percentage variable, since word scores in Afinn can range from -5 to 5, but it is a useful adjustment to control for variable comment length. "
   ]
  },
  {
   "cell_type": "code",
   "execution_count": 37,
   "metadata": {},
   "outputs": [],
   "source": [
    "covid['afinn_adjusted'] = covid['afinn_score'] / covid['word_count'] * 100"
   ]
  },
  {
   "cell_type": "code",
   "execution_count": 39,
   "metadata": {},
   "outputs": [
    {
     "data": {
      "text/html": [
       "<div>\n",
       "<style scoped>\n",
       "    .dataframe tbody tr th:only-of-type {\n",
       "        vertical-align: middle;\n",
       "    }\n",
       "\n",
       "    .dataframe tbody tr th {\n",
       "        vertical-align: top;\n",
       "    }\n",
       "\n",
       "    .dataframe thead th {\n",
       "        text-align: right;\n",
       "    }\n",
       "</style>\n",
       "<table border=\"1\" class=\"dataframe\">\n",
       "  <thead>\n",
       "    <tr style=\"text-align: right;\">\n",
       "      <th></th>\n",
       "      <th>text</th>\n",
       "      <th>favorited</th>\n",
       "      <th>favoriteCount</th>\n",
       "      <th>replyToSN</th>\n",
       "      <th>created</th>\n",
       "      <th>truncated</th>\n",
       "      <th>replyToSID</th>\n",
       "      <th>id</th>\n",
       "      <th>replyToUID</th>\n",
       "      <th>statusSource</th>\n",
       "      <th>screenName</th>\n",
       "      <th>retweetCount</th>\n",
       "      <th>isRetweet</th>\n",
       "      <th>retweeted</th>\n",
       "      <th>longitude</th>\n",
       "      <th>latitude</th>\n",
       "      <th>afinn_score</th>\n",
       "      <th>word_count</th>\n",
       "      <th>afinn_adjusted</th>\n",
       "    </tr>\n",
       "  </thead>\n",
       "  <tbody>\n",
       "    <tr>\n",
       "      <td>0</td>\n",
       "      <td>RT @uiolibre: Flisol 2020 #QuedateEnCasa #QuédateEnCasa #FLISOL #FLISOL2020 #uiolibre #SoftwareLibre #Quito #Ecuador #Coronavirus #Online h…</td>\n",
       "      <td>False</td>\n",
       "      <td>0</td>\n",
       "      <td>NaN</td>\n",
       "      <td>2020-05-17 16:28:25</td>\n",
       "      <td>False</td>\n",
       "      <td>NaN</td>\n",
       "      <td>1262057394458120194</td>\n",
       "      <td>NaN</td>\n",
       "      <td>&lt;a href=\"https://mobile.twitter.com\" rel=\"nofollow\"&gt;Twitter Web App&lt;/a&gt;</td>\n",
       "      <td>anitasayago</td>\n",
       "      <td>1</td>\n",
       "      <td>True</td>\n",
       "      <td>False</td>\n",
       "      <td>NaN</td>\n",
       "      <td>NaN</td>\n",
       "      <td>0.0</td>\n",
       "      <td>15</td>\n",
       "      <td>0.000000</td>\n",
       "    </tr>\n",
       "    <tr>\n",
       "      <td>1</td>\n",
       "      <td>RT @lopezgovlaw: During the #coronavirus crisis, here are some companies that are #HiringNow. Click for more info:\\nCrowdStrike: https://t.c…</td>\n",
       "      <td>False</td>\n",
       "      <td>0</td>\n",
       "      <td>NaN</td>\n",
       "      <td>2020-05-17 16:28:25</td>\n",
       "      <td>False</td>\n",
       "      <td>NaN</td>\n",
       "      <td>1262057393493553155</td>\n",
       "      <td>NaN</td>\n",
       "      <td>&lt;a href=\"https://twitter.com/VotarEsUnDeber\" rel=\"nofollow\"&gt;VotarBot&lt;/a&gt;</td>\n",
       "      <td>VotarEsUnDeber</td>\n",
       "      <td>2</td>\n",
       "      <td>True</td>\n",
       "      <td>False</td>\n",
       "      <td>NaN</td>\n",
       "      <td>NaN</td>\n",
       "      <td>-3.0</td>\n",
       "      <td>19</td>\n",
       "      <td>-15.789474</td>\n",
       "    </tr>\n",
       "    <tr>\n",
       "      <td>2</td>\n",
       "      <td>RT @CashSends: Due to #COVID19 aka #Coronavirus I’ll be sending the first 400 people to like &amp;amp; retweet this $400- $4K through CashApp,  Pay…</td>\n",
       "      <td>False</td>\n",
       "      <td>0</td>\n",
       "      <td>NaN</td>\n",
       "      <td>2020-05-17 16:28:24</td>\n",
       "      <td>False</td>\n",
       "      <td>NaN</td>\n",
       "      <td>1262057391866200065</td>\n",
       "      <td>NaN</td>\n",
       "      <td>&lt;a href=\"http://twitter.com/download/android\" rel=\"nofollow\"&gt;Twitter for Android&lt;/a&gt;</td>\n",
       "      <td>GoddessAnnaCat</td>\n",
       "      <td>221</td>\n",
       "      <td>True</td>\n",
       "      <td>False</td>\n",
       "      <td>NaN</td>\n",
       "      <td>NaN</td>\n",
       "      <td>1.0</td>\n",
       "      <td>24</td>\n",
       "      <td>4.166667</td>\n",
       "    </tr>\n",
       "    <tr>\n",
       "      <td>3</td>\n",
       "      <td>RT @zhengjeanclaude: #covid19 #coronavirus #vapingillness #vaping #vape #fortdetrick #UsForeignPolicy\\nWhat Fort Detrick, Mysterious Vaping…</td>\n",
       "      <td>False</td>\n",
       "      <td>0</td>\n",
       "      <td>NaN</td>\n",
       "      <td>2020-05-17 16:28:23</td>\n",
       "      <td>False</td>\n",
       "      <td>NaN</td>\n",
       "      <td>1262057387642372098</td>\n",
       "      <td>NaN</td>\n",
       "      <td>&lt;a href=\"http://twitter.com/download/iphone\" rel=\"nofollow\"&gt;Twitter for iPhone&lt;/a&gt;</td>\n",
       "      <td>nativespecies</td>\n",
       "      <td>2</td>\n",
       "      <td>True</td>\n",
       "      <td>False</td>\n",
       "      <td>NaN</td>\n",
       "      <td>NaN</td>\n",
       "      <td>0.0</td>\n",
       "      <td>14</td>\n",
       "      <td>0.000000</td>\n",
       "    </tr>\n",
       "    <tr>\n",
       "      <td>4</td>\n",
       "      <td>RT @edwardpoole1975: British Medical Journal's handy summary of the covid-19 pandemic\\n#coronavirus https://t.co/fg0BxaUHQ5</td>\n",
       "      <td>False</td>\n",
       "      <td>0</td>\n",
       "      <td>NaN</td>\n",
       "      <td>2020-05-17 16:28:23</td>\n",
       "      <td>False</td>\n",
       "      <td>NaN</td>\n",
       "      <td>1262057386258378753</td>\n",
       "      <td>NaN</td>\n",
       "      <td>&lt;a href=\"http://twitter.com/download/iphone\" rel=\"nofollow\"&gt;Twitter for iPhone&lt;/a&gt;</td>\n",
       "      <td>Cheyenne196060</td>\n",
       "      <td>18</td>\n",
       "      <td>True</td>\n",
       "      <td>False</td>\n",
       "      <td>NaN</td>\n",
       "      <td>NaN</td>\n",
       "      <td>0.0</td>\n",
       "      <td>13</td>\n",
       "      <td>0.000000</td>\n",
       "    </tr>\n",
       "  </tbody>\n",
       "</table>\n",
       "</div>"
      ],
      "text/plain": [
       "                                                                                                                                               text  \\\n",
       "0      RT @uiolibre: Flisol 2020 #QuedateEnCasa #QuédateEnCasa #FLISOL #FLISOL2020 #uiolibre #SoftwareLibre #Quito #Ecuador #Coronavirus #Online h…   \n",
       "1     RT @lopezgovlaw: During the #coronavirus crisis, here are some companies that are #HiringNow. Click for more info:\\nCrowdStrike: https://t.c…   \n",
       "2  RT @CashSends: Due to #COVID19 aka #Coronavirus I’ll be sending the first 400 people to like &amp; retweet this $400- $4K through CashApp,  Pay…   \n",
       "3      RT @zhengjeanclaude: #covid19 #coronavirus #vapingillness #vaping #vape #fortdetrick #UsForeignPolicy\\nWhat Fort Detrick, Mysterious Vaping…   \n",
       "4                       RT @edwardpoole1975: British Medical Journal's handy summary of the covid-19 pandemic\\n#coronavirus https://t.co/fg0BxaUHQ5   \n",
       "\n",
       "   favorited  favoriteCount replyToSN              created  truncated  \\\n",
       "0      False              0       NaN  2020-05-17 16:28:25      False   \n",
       "1      False              0       NaN  2020-05-17 16:28:25      False   \n",
       "2      False              0       NaN  2020-05-17 16:28:24      False   \n",
       "3      False              0       NaN  2020-05-17 16:28:23      False   \n",
       "4      False              0       NaN  2020-05-17 16:28:23      False   \n",
       "\n",
       "   replyToSID                   id  replyToUID  \\\n",
       "0         NaN  1262057394458120194         NaN   \n",
       "1         NaN  1262057393493553155         NaN   \n",
       "2         NaN  1262057391866200065         NaN   \n",
       "3         NaN  1262057387642372098         NaN   \n",
       "4         NaN  1262057386258378753         NaN   \n",
       "\n",
       "                                                                           statusSource  \\\n",
       "0               <a href=\"https://mobile.twitter.com\" rel=\"nofollow\">Twitter Web App</a>   \n",
       "1              <a href=\"https://twitter.com/VotarEsUnDeber\" rel=\"nofollow\">VotarBot</a>   \n",
       "2  <a href=\"http://twitter.com/download/android\" rel=\"nofollow\">Twitter for Android</a>   \n",
       "3    <a href=\"http://twitter.com/download/iphone\" rel=\"nofollow\">Twitter for iPhone</a>   \n",
       "4    <a href=\"http://twitter.com/download/iphone\" rel=\"nofollow\">Twitter for iPhone</a>   \n",
       "\n",
       "       screenName  retweetCount  isRetweet  retweeted  longitude  latitude  \\\n",
       "0     anitasayago             1       True      False        NaN       NaN   \n",
       "1  VotarEsUnDeber             2       True      False        NaN       NaN   \n",
       "2  GoddessAnnaCat           221       True      False        NaN       NaN   \n",
       "3   nativespecies             2       True      False        NaN       NaN   \n",
       "4  Cheyenne196060            18       True      False        NaN       NaN   \n",
       "\n",
       "   afinn_score  word_count  afinn_adjusted  \n",
       "0          0.0          15        0.000000  \n",
       "1         -3.0          19      -15.789474  \n",
       "2          1.0          24        4.166667  \n",
       "3          0.0          14        0.000000  \n",
       "4          0.0          13        0.000000  "
      ]
     },
     "execution_count": 39,
     "metadata": {},
     "output_type": "execute_result"
    }
   ],
   "source": [
    "covid.head(5)"
   ]
  },
  {
   "cell_type": "markdown",
   "metadata": {},
   "source": [
    "Now lets select the same tweets we selected before and see its adjusted afinn score:\n",
    "\n",
    "Looks like afinn_adjusted has higher scores for the most positive and negative tweet, which is a more accurate way to show people's sentiments on from these tweets"
   ]
  },
  {
   "cell_type": "code",
   "execution_count": 36,
   "metadata": {},
   "outputs": [
    {
     "data": {
      "text/plain": [
       "text              RT @EuMordue: The EU is supporting @NCAJ_KE to innovate in the safe delivery of justice in Kenya during the #CoronaVirus pandemic, protecti…\n",
       "afinn_score                                                                                                                                                  5\n",
       "afinn_adjusted                                                                                                                                         22.7273\n",
       "Name: 534, dtype: object"
      ]
     },
     "execution_count": 36,
     "metadata": {},
     "output_type": "execute_result"
    }
   ],
   "source": [
    "sample = covid.iloc[534][['text','afinn_score','afinn_adjusted']]\n",
    "sample"
   ]
  },
  {
   "cell_type": "code",
   "execution_count": 40,
   "metadata": {},
   "outputs": [
    {
     "data": {
      "text/plain": [
       "text              RT @Varneyco: STU: \"Stop forcing businesses to go bankrupt, stop telling abused people 'you can't get out of that house,' plus, stop govern…\n",
       "afinn_score                                                                                                                                                 -9\n",
       "afinn_adjusted                                                                                                                                        -39.1304\n",
       "Name: 71, dtype: object"
      ]
     },
     "execution_count": 40,
     "metadata": {},
     "output_type": "execute_result"
    }
   ],
   "source": [
    "sample = covid.iloc[71][['text','afinn_score','afinn_adjusted']]\n",
    "sample"
   ]
  },
  {
   "cell_type": "code",
   "execution_count": null,
   "metadata": {},
   "outputs": [],
   "source": []
  }
 ],
 "metadata": {
  "kernelspec": {
   "display_name": "Python 3",
   "language": "python",
   "name": "python3"
  },
  "language_info": {
   "codemirror_mode": {
    "name": "ipython",
    "version": 3
   },
   "file_extension": ".py",
   "mimetype": "text/x-python",
   "name": "python",
   "nbconvert_exporter": "python",
   "pygments_lexer": "ipython3",
   "version": "3.7.4"
  }
 },
 "nbformat": 4,
 "nbformat_minor": 2
}
